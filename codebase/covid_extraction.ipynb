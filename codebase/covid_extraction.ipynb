{
 "cells": [
  {
   "cell_type": "code",
   "execution_count": 1,
   "id": "35490eae",
   "metadata": {},
   "outputs": [],
   "source": [
    "import bz2\n",
    "import json\n",
    "import pandas as pd"
   ]
  },
  {
   "cell_type": "code",
   "execution_count": 25,
   "id": "d8d5dbd9",
   "metadata": {},
   "outputs": [],
   "source": [
    "with bz2.open(\"/Users/akshayaparthasarathy/Desktop/UNI/research/COVID.full.json.bz2\", \"rt\") as bzinput:\n",
    "    lines = []\n",
    "    for i, line in enumerate(bzinput):\n",
    "        if i == 922: break \n",
    "        tweets = json.loads(line)\n",
    "        lines.append(tweets)"
   ]
  },
  {
   "cell_type": "code",
   "execution_count": 27,
   "id": "eb2dbbae",
   "metadata": {},
   "outputs": [
    {
     "name": "stdout",
     "output_type": "stream",
     "text": [
      "{'created_at': 'Mon Apr 06 08:20:16 +0000 2020', 'id': 1247076645829132288, 'id_str': '1247076645829132288', 'text': 'RT @NightlyPolitics: Maybe electing someone who inherited a fortune, bankrupted a dozen businesses, paid off pornstars, cheated on all thre…', 'source': '<a href=\"https://mobile.twitter.com\" rel=\"nofollow\">Twitter Web App</a>', 'truncated': False, 'in_reply_to_status_id': None, 'in_reply_to_status_id_str': None, 'in_reply_to_user_id': None, 'in_reply_to_user_id_str': None, 'in_reply_to_screen_name': None, 'user': {'id': 352029891, 'id_str': '352029891', 'name': 'Andrew Trevillian', 'screen_name': 'Tres_Villain', 'location': 'Melbourne, Australia', 'url': None, 'description': 'I design cool things for beautiful people like you @PolyphonicLP and teach game design @Swinburne', 'translator_type': 'none', 'derived': {'locations': [{'country': 'Australia', 'country_code': 'AU', 'locality': 'Melbourne', 'region': 'Victoria', 'sub_region': 'Melbourne', 'full_name': 'Melbourne, Victoria, Australia', 'geo': {'coordinates': [144.96332, -37.814], 'type': 'point'}}]}, 'protected': False, 'verified': False, 'followers_count': 988, 'friends_count': 1011, 'listed_count': 41, 'favourites_count': 29576, 'statuses_count': 10234, 'created_at': 'Wed Aug 10 01:50:34 +0000 2011', 'utc_offset': None, 'time_zone': None, 'geo_enabled': True, 'lang': None, 'contributors_enabled': False, 'is_translator': False, 'profile_background_color': '000000', 'profile_background_image_url': 'http://abs.twimg.com/images/themes/theme1/bg.png', 'profile_background_image_url_https': 'https://abs.twimg.com/images/themes/theme1/bg.png', 'profile_background_tile': False, 'profile_link_color': 'ABB8C2', 'profile_sidebar_border_color': '000000', 'profile_sidebar_fill_color': '000000', 'profile_text_color': '000000', 'profile_use_background_image': False, 'profile_image_url': 'http://pbs.twimg.com/profile_images/1238719309758599168/cUsrURDC_normal.jpg', 'profile_image_url_https': 'https://pbs.twimg.com/profile_images/1238719309758599168/cUsrURDC_normal.jpg', 'profile_banner_url': 'https://pbs.twimg.com/profile_banners/352029891/1582103808', 'default_profile': False, 'default_profile_image': False, 'following': None, 'follow_request_sent': None, 'notifications': None}, 'geo': None, 'coordinates': None, 'place': None, 'contributors': None, 'retweeted_status': {'created_at': 'Mon Apr 06 04:13:58 +0000 2020', 'id': 1247014661247184896, 'id_str': '1247014661247184896', 'text': 'Maybe electing someone who inherited a fortune, bankrupted a dozen businesses, paid off pornstars, cheated on all t… https://t.co/W1XDD5g31t', 'source': '<a href=\"http://twitter.com/download/iphone\" rel=\"nofollow\">Twitter for iPhone</a>', 'truncated': True, 'in_reply_to_status_id': None, 'in_reply_to_status_id_str': None, 'in_reply_to_user_id': None, 'in_reply_to_user_id_str': None, 'in_reply_to_screen_name': None, 'user': {'id': 1006096223596511244, 'id_str': '1006096223596511244', 'name': 'The Resistance 🇺🇸', 'screen_name': 'NightlyPolitics', 'location': 'United States', 'url': 'https://nightlypolitics.store', 'description': 'Leading the Resistance against Donald Trump! #Impeached #VoteBlueNoMatterWho #Resist', 'translator_type': 'none', 'protected': False, 'verified': False, 'followers_count': 115195, 'friends_count': 61972, 'listed_count': 298, 'favourites_count': 3414, 'statuses_count': 9100, 'created_at': 'Mon Jun 11 08:50:06 +0000 2018', 'utc_offset': None, 'time_zone': None, 'geo_enabled': False, 'lang': None, 'contributors_enabled': False, 'is_translator': False, 'profile_background_color': 'F5F8FA', 'profile_background_image_url': '', 'profile_background_image_url_https': '', 'profile_background_tile': False, 'profile_link_color': '1DA1F2', 'profile_sidebar_border_color': 'C0DEED', 'profile_sidebar_fill_color': 'DDEEF6', 'profile_text_color': '333333', 'profile_use_background_image': True, 'profile_image_url': 'http://pbs.twimg.com/profile_images/1141560108394012672/TOGGq2X3_normal.png', 'profile_image_url_https': 'https://pbs.twimg.com/profile_images/1141560108394012672/TOGGq2X3_normal.png', 'profile_banner_url': 'https://pbs.twimg.com/profile_banners/1006096223596511244/1561003799', 'default_profile': True, 'default_profile_image': False, 'following': None, 'follow_request_sent': None, 'notifications': None, 'updated': ['description']}, 'geo': None, 'coordinates': None, 'place': None, 'contributors': None, 'is_quote_status': False, 'extended_tweet': {'full_text': 'Maybe electing someone who inherited a fortune, bankrupted a dozen businesses, paid off pornstars, cheated on all three wives, mocked a disabled reporter, dodged the draft, said he’s smarter than military generals and called the coronavirus a hoax wasn’t so smart.\\n\\n#TrumpIsALoser', 'display_text_range': [0, 280], 'entities': {'hashtags': [{'text': 'TrumpIsALoser', 'indices': [266, 280]}], 'urls': [], 'user_mentions': [], 'symbols': []}}, 'quote_count': 44, 'reply_count': 86, 'retweet_count': 754, 'favorite_count': 2099, 'entities': {'hashtags': [], 'urls': [{'url': 'https://t.co/W1XDD5g31t', 'expanded_url': 'https://twitter.com/i/web/status/1247014661247184896', 'display_url': 'twitter.com/i/web/status/1…', 'indices': [117, 140]}], 'user_mentions': [], 'symbols': []}, 'favorited': False, 'retweeted': False, 'filter_level': 'low', 'lang': 'en'}, 'is_quote_status': False, 'quote_count': 0, 'reply_count': 0, 'retweet_count': 0, 'favorite_count': 0, 'entities': {'hashtags': [], 'urls': [], 'user_mentions': [{'screen_name': 'NightlyPolitics', 'name': 'The Resistance 🇺🇸', 'id': 1006096223596511244, 'id_str': '1006096223596511244', 'indices': [3, 19]}], 'symbols': []}, 'favorited': False, 'retweeted': False, 'filter_level': 'low', 'lang': 'en', 'timestamp_ms': '1586161216586', 'matching_rules': [{'tag': None, 'id': 4697526838905787986, 'id_str': '4697526838905787986'}]}\n"
     ]
    }
   ],
   "source": [
    "print(lines[2])"
   ]
  },
  {
   "cell_type": "code",
   "execution_count": 36,
   "id": "1815041b",
   "metadata": {},
   "outputs": [],
   "source": [
    "column_names = [\"created_at\", \"id\", \"tweet\",\"entities\"]\n",
    "tweets_df = pd.DataFrame(columns = column_names)"
   ]
  },
  {
   "cell_type": "code",
   "execution_count": 37,
   "id": "68d3e2b9",
   "metadata": {},
   "outputs": [],
   "source": [
    "#storing into dataframe\n",
    "for i, line in enumerate(lines):\n",
    "    created_at = lines[i]['created_at']\n",
    "    tweet_id = lines[i]['id']\n",
    "    tweet = lines[i]['text']\n",
    "    entities = lines[i][\"entities\"]\n",
    "    new_row = {'created_at':created_at, 'id':tweet_id,'tweet':tweet,'entities':entities}\n",
    "    tweets_df = tweets_df.append(new_row, ignore_index=True) "
   ]
  },
  {
   "cell_type": "code",
   "execution_count": 38,
   "id": "7c3ab028",
   "metadata": {},
   "outputs": [
    {
     "data": {
      "text/html": [
       "<div>\n",
       "<style scoped>\n",
       "    .dataframe tbody tr th:only-of-type {\n",
       "        vertical-align: middle;\n",
       "    }\n",
       "\n",
       "    .dataframe tbody tr th {\n",
       "        vertical-align: top;\n",
       "    }\n",
       "\n",
       "    .dataframe thead th {\n",
       "        text-align: right;\n",
       "    }\n",
       "</style>\n",
       "<table border=\"1\" class=\"dataframe\">\n",
       "  <thead>\n",
       "    <tr style=\"text-align: right;\">\n",
       "      <th></th>\n",
       "      <th>created_at</th>\n",
       "      <th>id</th>\n",
       "      <th>tweet</th>\n",
       "      <th>entities</th>\n",
       "    </tr>\n",
       "  </thead>\n",
       "  <tbody>\n",
       "    <tr>\n",
       "      <th>0</th>\n",
       "      <td>Mon Apr 06 08:20:00 +0000 2020</td>\n",
       "      <td>1247076579512946689</td>\n",
       "      <td>RT @manjusrii: Anonymous relative: This whole ...</td>\n",
       "      <td>{'hashtags': [], 'urls': [], 'user_mentions': ...</td>\n",
       "    </tr>\n",
       "    <tr>\n",
       "      <th>1</th>\n",
       "      <td>Mon Apr 06 08:20:02 +0000 2020</td>\n",
       "      <td>1247076585695350786</td>\n",
       "      <td>@SwannyQLD I believe the term “snap back” refe...</td>\n",
       "      <td>{'hashtags': [], 'urls': [{'url': 'https://t.c...</td>\n",
       "    </tr>\n",
       "    <tr>\n",
       "      <th>2</th>\n",
       "      <td>Mon Apr 06 08:20:16 +0000 2020</td>\n",
       "      <td>1247076645829132288</td>\n",
       "      <td>RT @NightlyPolitics: Maybe electing someone wh...</td>\n",
       "      <td>{'hashtags': [], 'urls': [], 'user_mentions': ...</td>\n",
       "    </tr>\n",
       "    <tr>\n",
       "      <th>3</th>\n",
       "      <td>Mon Apr 06 08:20:34 +0000 2020</td>\n",
       "      <td>1247076722656210944</td>\n",
       "      <td>RT @CaslerNoel: Sue me Trump. I’m the one who ...</td>\n",
       "      <td>{'hashtags': [], 'urls': [], 'user_mentions': ...</td>\n",
       "    </tr>\n",
       "    <tr>\n",
       "      <th>4</th>\n",
       "      <td>Mon Apr 06 08:20:07 +0000 2020</td>\n",
       "      <td>1247076606184583170</td>\n",
       "      <td>RT @Wendy_Bacon: I’d like to hear from doctors...</td>\n",
       "      <td>{'hashtags': [{'text': 'DiamondPrincess', 'ind...</td>\n",
       "    </tr>\n",
       "    <tr>\n",
       "      <th>5</th>\n",
       "      <td>Mon Apr 06 08:20:08 +0000 2020</td>\n",
       "      <td>1247076613344210945</td>\n",
       "      <td>RT @lynlinking: Morrison’s tears, Court's delu...</td>\n",
       "      <td>{'hashtags': [], 'urls': [], 'user_mentions': ...</td>\n",
       "    </tr>\n",
       "    <tr>\n",
       "      <th>6</th>\n",
       "      <td>Mon Apr 06 08:20:13 +0000 2020</td>\n",
       "      <td>1247076634450001921</td>\n",
       "      <td>RT @sportaustralia: Here’s an opportunity for ...</td>\n",
       "      <td>{'hashtags': [], 'urls': [], 'user_mentions': ...</td>\n",
       "    </tr>\n",
       "    <tr>\n",
       "      <th>7</th>\n",
       "      <td>Mon Apr 06 08:20:18 +0000 2020</td>\n",
       "      <td>1247076654809145344</td>\n",
       "      <td>RT @sarahkliff: A coroner couldn't get the cor...</td>\n",
       "      <td>{'hashtags': [], 'urls': [], 'user_mentions': ...</td>\n",
       "    </tr>\n",
       "    <tr>\n",
       "      <th>8</th>\n",
       "      <td>Mon Apr 06 08:20:35 +0000 2020</td>\n",
       "      <td>1247076723646033927</td>\n",
       "      <td>@2hulls @teemothy @StevePriceMedia If people i...</td>\n",
       "      <td>{'hashtags': [], 'urls': [{'url': 'https://t.c...</td>\n",
       "    </tr>\n",
       "    <tr>\n",
       "      <th>9</th>\n",
       "      <td>Mon Apr 06 08:20:37 +0000 2020</td>\n",
       "      <td>1247076734865780737</td>\n",
       "      <td>RT @WrennyDeb: @bruce_haigh This is to deflect...</td>\n",
       "      <td>{'hashtags': [{'text': 'Hillsong', 'indices': ...</td>\n",
       "    </tr>\n",
       "  </tbody>\n",
       "</table>\n",
       "</div>"
      ],
      "text/plain": [
       "                       created_at                   id  \\\n",
       "0  Mon Apr 06 08:20:00 +0000 2020  1247076579512946689   \n",
       "1  Mon Apr 06 08:20:02 +0000 2020  1247076585695350786   \n",
       "2  Mon Apr 06 08:20:16 +0000 2020  1247076645829132288   \n",
       "3  Mon Apr 06 08:20:34 +0000 2020  1247076722656210944   \n",
       "4  Mon Apr 06 08:20:07 +0000 2020  1247076606184583170   \n",
       "5  Mon Apr 06 08:20:08 +0000 2020  1247076613344210945   \n",
       "6  Mon Apr 06 08:20:13 +0000 2020  1247076634450001921   \n",
       "7  Mon Apr 06 08:20:18 +0000 2020  1247076654809145344   \n",
       "8  Mon Apr 06 08:20:35 +0000 2020  1247076723646033927   \n",
       "9  Mon Apr 06 08:20:37 +0000 2020  1247076734865780737   \n",
       "\n",
       "                                               tweet  \\\n",
       "0  RT @manjusrii: Anonymous relative: This whole ...   \n",
       "1  @SwannyQLD I believe the term “snap back” refe...   \n",
       "2  RT @NightlyPolitics: Maybe electing someone wh...   \n",
       "3  RT @CaslerNoel: Sue me Trump. I’m the one who ...   \n",
       "4  RT @Wendy_Bacon: I’d like to hear from doctors...   \n",
       "5  RT @lynlinking: Morrison’s tears, Court's delu...   \n",
       "6  RT @sportaustralia: Here’s an opportunity for ...   \n",
       "7  RT @sarahkliff: A coroner couldn't get the cor...   \n",
       "8  @2hulls @teemothy @StevePriceMedia If people i...   \n",
       "9  RT @WrennyDeb: @bruce_haigh This is to deflect...   \n",
       "\n",
       "                                            entities  \n",
       "0  {'hashtags': [], 'urls': [], 'user_mentions': ...  \n",
       "1  {'hashtags': [], 'urls': [{'url': 'https://t.c...  \n",
       "2  {'hashtags': [], 'urls': [], 'user_mentions': ...  \n",
       "3  {'hashtags': [], 'urls': [], 'user_mentions': ...  \n",
       "4  {'hashtags': [{'text': 'DiamondPrincess', 'ind...  \n",
       "5  {'hashtags': [], 'urls': [], 'user_mentions': ...  \n",
       "6  {'hashtags': [], 'urls': [], 'user_mentions': ...  \n",
       "7  {'hashtags': [], 'urls': [], 'user_mentions': ...  \n",
       "8  {'hashtags': [], 'urls': [{'url': 'https://t.c...  \n",
       "9  {'hashtags': [{'text': 'Hillsong', 'indices': ...  "
      ]
     },
     "execution_count": 38,
     "metadata": {},
     "output_type": "execute_result"
    }
   ],
   "source": [
    "tweets_df.head(10)"
   ]
  },
  {
   "cell_type": "code",
   "execution_count": null,
   "id": "3702db98",
   "metadata": {},
   "outputs": [],
   "source": []
  }
 ],
 "metadata": {
  "kernelspec": {
   "display_name": "Python 3",
   "language": "python",
   "name": "python3"
  },
  "language_info": {
   "codemirror_mode": {
    "name": "ipython",
    "version": 3
   },
   "file_extension": ".py",
   "mimetype": "text/x-python",
   "name": "python",
   "nbconvert_exporter": "python",
   "pygments_lexer": "ipython3",
   "version": "3.8.8"
  }
 },
 "nbformat": 4,
 "nbformat_minor": 5
}
